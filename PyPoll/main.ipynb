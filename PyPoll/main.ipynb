{
 "cells": [
  {
   "cell_type": "code",
   "execution_count": 1,
   "id": "03ca57f0-3da4-4489-a70a-ef7946d77cb8",
   "metadata": {},
   "outputs": [
    {
     "name": "stdout",
     "output_type": "stream",
     "text": [
      "Election Results\n",
      "-------------------------\n",
      "Total Votes: 369711\n",
      "-------------------------\n",
      "Charles Casper Stockham: 23.049% (11606)\n",
      "Diana DeGette: 73.812% (11606)\n",
      "Raymon Anthony Doane: 3.139% (11606)\n",
      "-------------------------\n",
      "Winner: Diana DeGette\n",
      "-------------------------\n"
     ]
    }
   ],
   "source": [
    "import csv\n",
    "import os\n",
    "\n",
    "# initialize the variables\n",
    "total_votes = 0\n",
    "candidates = {}\n",
    "winner = \"\"\n",
    "winner_votes = 0\n",
    "\n",
    "# read the CSV file\n",
    "with open('/Users/thiernodiallo/Downloads/Starter_Code 5/PyPoll/Resources/election_data.csv', \"r\") as file:\n",
    "    csvreader = csv.reader(file)\n",
    "    next(csvreader) # skip the header row or first line\n",
    "    \n",
    "# loop/iterate through each row in the CSV file\n",
    "    for row in csvreader:\n",
    "        total_votes += 1\n",
    "        candidate = row[2] # the candidate is in the third column\n",
    "       \n",
    "# Count the No of votes for each candidate  \n",
    "        if candidate in candidates:\n",
    "            candidates[candidate] += 1  \n",
    "        else:\n",
    "            candidates[candidate] = 1 \n",
    "    \n",
    "# % votes of each candidate\n",
    "percentages = {candidate: (votes / total_votes) * 100 for candidate, votes in candidates.items()}\n",
    "\n",
    "\n",
    "# Find the winner\n",
    "for candidate,votes in candidates.items():\n",
    "    if votes > winner_votes:\n",
    "        winner = candidate\n",
    "        winner_votes = votes\n",
    "\n",
    "\n",
    "# Print the analysis to the terminal\n",
    "print(\"Election Results\")\n",
    "print(\"-------------------------\")\n",
    "print(f\"Total Votes: {total_votes}\")\n",
    "print(\"-------------------------\")\n",
    "for candidate, data in candidates.items():\n",
    "    print(f\"{candidate}: {percentages[candidate]:.3f}% ({votes})\")\n",
    "\n",
    "print(\"-------------------------\")\n",
    "print(f\"Winner: {winner}\")\n",
    "print(\"-------------------------\")\n",
    "\n",
    "        \n",
    "    \n",
    "    \n"
   ]
  },
  {
   "cell_type": "code",
   "execution_count": 11,
   "id": "d1e21c68-2a2f-4894-92dc-7d698fc53f57",
   "metadata": {},
   "outputs": [],
   "source": [
    "output = ( \n",
    "    f\"Election Results\\n\" \n",
    "    f\"-------------------------\\n\"\n",
    "    f\"Total Votes: {total_votes}\\n\"\n",
    "    f\"-------------------------\\n\"\n",
    "    f\"{candidate}: {percentages[candidate]:.3f}% ({votes})\\n\"\n",
    "    f\"-------------------------\\n\"\n",
    "    f\"Winner: {winner}\\n\"\n",
    "    f\"-------------------------\\n\"\n",
    ")\n",
    "                                    "
   ]
  },
  {
   "cell_type": "code",
   "execution_count": 12,
   "id": "5cfcd05c-40b6-4d68-a723-0d4d2dbb62cd",
   "metadata": {},
   "outputs": [
    {
     "name": "stdout",
     "output_type": "stream",
     "text": [
      "Election Results\n",
      "-------------------------\n",
      "Total Votes: 369711\n",
      "-------------------------\n",
      "Raymon Anthony Doane: 3.139% (11606)\n",
      "-------------------------\n",
      "Winner: Diana DeGette\n",
      "-------------------------\n",
      "\n"
     ]
    }
   ],
   "source": [
    "print(output)"
   ]
  },
  {
   "cell_type": "code",
   "execution_count": null,
   "id": "c0b677af-73fe-4f5a-a042-427088ba82c3",
   "metadata": {},
   "outputs": [],
   "source": [
    "# Export the results to text file\n",
    "file_to_output = os.path.join(\"PyPoll/analysis\", \"election_data.txt\")\n",
    "with open(file_to_output, \"w\") as txt_file:\n",
    "    txt_file.write(output)"
   ]
  },
  {
   "cell_type": "code",
   "execution_count": null,
   "id": "2a81ba40-55f5-45da-ace5-98e6ca304847",
   "metadata": {},
   "outputs": [],
   "source": [
    "cd .."
   ]
  },
  {
   "cell_type": "code",
   "execution_count": null,
   "id": "ece2ce50-851d-4d89-9885-f8365e964e2d",
   "metadata": {},
   "outputs": [],
   "source": [
    "cd Desktop"
   ]
  },
  {
   "cell_type": "code",
   "execution_count": null,
   "id": "382fd172-c6cf-4b79-a13f-731a7d61c38c",
   "metadata": {},
   "outputs": [],
   "source": [
    "ls"
   ]
  },
  {
   "cell_type": "code",
   "execution_count": null,
   "id": "340f062f-103d-450a-b693-45bec3b01e62",
   "metadata": {},
   "outputs": [],
   "source": [
    "cd python-challenge"
   ]
  },
  {
   "cell_type": "code",
   "execution_count": null,
   "id": "3950f5a5-9821-40a8-b99f-b5279b0f8ae5",
   "metadata": {},
   "outputs": [],
   "source": []
  },
  {
   "cell_type": "code",
   "execution_count": null,
   "id": "c7de6630-a87d-4184-b7d5-1654c7d5a416",
   "metadata": {},
   "outputs": [],
   "source": []
  },
  {
   "cell_type": "code",
   "execution_count": null,
   "id": "4c494488-888c-4bb3-b673-8bd368c24cc7",
   "metadata": {},
   "outputs": [],
   "source": []
  },
  {
   "cell_type": "code",
   "execution_count": null,
   "id": "263a7e37-c9e5-4d2f-a2d7-4b13b481e9a8",
   "metadata": {},
   "outputs": [],
   "source": []
  },
  {
   "cell_type": "code",
   "execution_count": null,
   "id": "e59a9e95-c4ba-40ff-8142-f61ead98de10",
   "metadata": {},
   "outputs": [],
   "source": []
  },
  {
   "cell_type": "code",
   "execution_count": null,
   "id": "2e5a6d85-7049-40a2-bdb2-31b7a92dc5e2",
   "metadata": {},
   "outputs": [],
   "source": []
  },
  {
   "cell_type": "code",
   "execution_count": null,
   "id": "0bfe3054-8d52-48fa-bd8f-00b2187925ac",
   "metadata": {},
   "outputs": [],
   "source": []
  },
  {
   "cell_type": "code",
   "execution_count": null,
   "id": "055ffd19-67ec-42f5-9472-40af26f41cb0",
   "metadata": {},
   "outputs": [],
   "source": []
  },
  {
   "cell_type": "code",
   "execution_count": null,
   "id": "d782a7cd-c600-4b11-baeb-873e410f40b2",
   "metadata": {},
   "outputs": [],
   "source": []
  },
  {
   "cell_type": "code",
   "execution_count": null,
   "id": "540938fa-b1c2-4965-818f-5153a4afdefe",
   "metadata": {},
   "outputs": [],
   "source": []
  },
  {
   "cell_type": "code",
   "execution_count": null,
   "id": "89dc0c51-a253-4028-971a-56be6ccbede7",
   "metadata": {},
   "outputs": [],
   "source": []
  },
  {
   "cell_type": "code",
   "execution_count": null,
   "id": "ee52aedc-9dc6-4cd5-bab8-25e6ba05f676",
   "metadata": {},
   "outputs": [],
   "source": []
  },
  {
   "cell_type": "code",
   "execution_count": null,
   "id": "7cd8d774-a39a-4e8b-b4b3-c7e061d00ca0",
   "metadata": {},
   "outputs": [],
   "source": []
  },
  {
   "cell_type": "code",
   "execution_count": null,
   "id": "bf7bbf3d-dbfe-4205-a689-f9b2fc9b250d",
   "metadata": {},
   "outputs": [],
   "source": []
  },
  {
   "cell_type": "code",
   "execution_count": null,
   "id": "5b2d08f0-d6b4-4d7e-90be-dc89f4bfe9ae",
   "metadata": {},
   "outputs": [],
   "source": []
  },
  {
   "cell_type": "code",
   "execution_count": null,
   "id": "041ce183-c98b-4e66-925a-a74c9137d08c",
   "metadata": {},
   "outputs": [],
   "source": []
  },
  {
   "cell_type": "code",
   "execution_count": null,
   "id": "bf31dff8-f52c-476b-8354-e5bbed4c51be",
   "metadata": {},
   "outputs": [],
   "source": []
  },
  {
   "cell_type": "code",
   "execution_count": null,
   "id": "eef3d6bb-57ce-49d5-8481-5a3c63f8403b",
   "metadata": {},
   "outputs": [],
   "source": []
  },
  {
   "cell_type": "code",
   "execution_count": null,
   "id": "c2eafe7a-63d4-43dd-a29d-6492078db69e",
   "metadata": {},
   "outputs": [],
   "source": []
  },
  {
   "cell_type": "code",
   "execution_count": null,
   "id": "abebe8f2-b6d4-440f-803a-f6f3374c1a74",
   "metadata": {},
   "outputs": [],
   "source": []
  },
  {
   "cell_type": "code",
   "execution_count": null,
   "id": "07a82ddc-4688-46dd-9d21-93ce210831ec",
   "metadata": {},
   "outputs": [],
   "source": []
  },
  {
   "cell_type": "code",
   "execution_count": null,
   "id": "75953a06-0051-4647-bf15-15b1b4d2931d",
   "metadata": {},
   "outputs": [],
   "source": []
  },
  {
   "cell_type": "code",
   "execution_count": null,
   "id": "49550ebc-d62c-455b-ac62-1d45f57be639",
   "metadata": {},
   "outputs": [],
   "source": []
  },
  {
   "cell_type": "code",
   "execution_count": null,
   "id": "50955d9b-bdc3-4a27-bc8a-a35a58cea2ea",
   "metadata": {},
   "outputs": [],
   "source": []
  },
  {
   "cell_type": "code",
   "execution_count": null,
   "id": "c3e43d47-7e91-4f14-84ad-8859bdb05a77",
   "metadata": {},
   "outputs": [],
   "source": []
  },
  {
   "cell_type": "code",
   "execution_count": null,
   "id": "94880043-6dee-46f1-a084-ea1594ca9a24",
   "metadata": {},
   "outputs": [],
   "source": []
  },
  {
   "cell_type": "code",
   "execution_count": null,
   "id": "eeca4786-4d3f-45aa-973a-e4275b9419ad",
   "metadata": {},
   "outputs": [],
   "source": []
  },
  {
   "cell_type": "code",
   "execution_count": null,
   "id": "6ff42aa6-fdf1-482d-a3d0-a4a29c28ad68",
   "metadata": {},
   "outputs": [],
   "source": []
  },
  {
   "cell_type": "code",
   "execution_count": null,
   "id": "1ccf8cdb-93cc-4b19-9c5a-0dde6b7c8a8f",
   "metadata": {},
   "outputs": [],
   "source": []
  },
  {
   "cell_type": "code",
   "execution_count": null,
   "id": "887142ca-0137-4cda-bbbf-eedc012fcacc",
   "metadata": {},
   "outputs": [],
   "source": []
  },
  {
   "cell_type": "code",
   "execution_count": null,
   "id": "c65cfc82-c200-4685-8896-e76725f42e8d",
   "metadata": {},
   "outputs": [],
   "source": []
  },
  {
   "cell_type": "code",
   "execution_count": null,
   "id": "d0c7c647-d98b-4ccb-888f-28cd6aaa9c12",
   "metadata": {},
   "outputs": [],
   "source": []
  },
  {
   "cell_type": "code",
   "execution_count": null,
   "id": "ff4dbe2d-228f-4439-91a1-ef415408d531",
   "metadata": {},
   "outputs": [],
   "source": []
  },
  {
   "cell_type": "code",
   "execution_count": null,
   "id": "45416a36-2d18-4b79-966e-b387a9819ccc",
   "metadata": {},
   "outputs": [],
   "source": []
  },
  {
   "cell_type": "code",
   "execution_count": null,
   "id": "a367b371-184e-4361-8b62-3db7e944e18a",
   "metadata": {},
   "outputs": [],
   "source": []
  },
  {
   "cell_type": "code",
   "execution_count": null,
   "id": "272ee384-3dc4-420d-b92d-4390c6aa8962",
   "metadata": {},
   "outputs": [],
   "source": []
  },
  {
   "cell_type": "code",
   "execution_count": null,
   "id": "c33801e8-5161-484a-8c8f-ea7a3ae5636d",
   "metadata": {},
   "outputs": [],
   "source": []
  },
  {
   "cell_type": "code",
   "execution_count": null,
   "id": "e4e7c545-b558-42a2-8c95-29112be557b0",
   "metadata": {},
   "outputs": [],
   "source": []
  },
  {
   "cell_type": "code",
   "execution_count": null,
   "id": "770982f6-a42c-41d9-8df3-ab071e270c31",
   "metadata": {},
   "outputs": [],
   "source": []
  },
  {
   "cell_type": "code",
   "execution_count": null,
   "id": "5e16ff9a-fbdc-4814-adf2-01633bc2df6f",
   "metadata": {},
   "outputs": [],
   "source": []
  },
  {
   "cell_type": "code",
   "execution_count": null,
   "id": "fcd55e6b-570b-43d4-a277-74b1e81eef0d",
   "metadata": {},
   "outputs": [],
   "source": []
  },
  {
   "cell_type": "code",
   "execution_count": null,
   "id": "514300fe-9874-4bdc-871f-6cda8cc70384",
   "metadata": {},
   "outputs": [],
   "source": []
  },
  {
   "cell_type": "code",
   "execution_count": null,
   "id": "96cd5034-8648-4b63-a4e3-b6dafa180d76",
   "metadata": {},
   "outputs": [],
   "source": []
  },
  {
   "cell_type": "code",
   "execution_count": null,
   "id": "b7c363e4-f938-4491-aba5-9b0f1d4cbc19",
   "metadata": {},
   "outputs": [],
   "source": []
  },
  {
   "cell_type": "code",
   "execution_count": null,
   "id": "80324d01-3543-4879-a089-7a7958ddeb08",
   "metadata": {},
   "outputs": [],
   "source": []
  },
  {
   "cell_type": "code",
   "execution_count": null,
   "id": "c069a345-ee39-46e1-af88-9432069620a3",
   "metadata": {},
   "outputs": [],
   "source": []
  },
  {
   "cell_type": "code",
   "execution_count": null,
   "id": "447d04ea-522c-4120-b416-3af30899e31c",
   "metadata": {},
   "outputs": [],
   "source": []
  },
  {
   "cell_type": "code",
   "execution_count": null,
   "id": "64cd482a-cb64-4939-8007-1df16db63328",
   "metadata": {},
   "outputs": [],
   "source": []
  },
  {
   "cell_type": "code",
   "execution_count": null,
   "id": "2c1800b7-95cb-4fc3-ac90-02980509193d",
   "metadata": {},
   "outputs": [],
   "source": []
  },
  {
   "cell_type": "code",
   "execution_count": null,
   "id": "62c13e8d-e931-4de5-bef0-c8ea77c20a7b",
   "metadata": {},
   "outputs": [],
   "source": []
  },
  {
   "cell_type": "code",
   "execution_count": null,
   "id": "7ac498ee-3fd7-4726-a26c-cdf8008ba180",
   "metadata": {},
   "outputs": [],
   "source": []
  },
  {
   "cell_type": "code",
   "execution_count": null,
   "id": "2159cb3e-9dff-4641-a572-c99892ef6910",
   "metadata": {},
   "outputs": [],
   "source": []
  },
  {
   "cell_type": "code",
   "execution_count": null,
   "id": "e827bb42-ab89-478d-8b74-501f862c911f",
   "metadata": {},
   "outputs": [],
   "source": []
  },
  {
   "cell_type": "code",
   "execution_count": null,
   "id": "18c83a83-abbe-4b47-9db1-aef002ece508",
   "metadata": {},
   "outputs": [],
   "source": []
  },
  {
   "cell_type": "code",
   "execution_count": null,
   "id": "e512501a-1d28-4817-8d5f-6a4035b62dff",
   "metadata": {},
   "outputs": [],
   "source": []
  },
  {
   "cell_type": "code",
   "execution_count": null,
   "id": "ec0c8a07-e4d3-4218-8cb0-fd0981e15830",
   "metadata": {},
   "outputs": [],
   "source": []
  },
  {
   "cell_type": "code",
   "execution_count": null,
   "id": "a77b5578-e51a-4190-beee-d3899df577db",
   "metadata": {},
   "outputs": [],
   "source": []
  },
  {
   "cell_type": "code",
   "execution_count": null,
   "id": "37fceeb4-e81a-4875-8742-1c3f73a9fe4a",
   "metadata": {},
   "outputs": [],
   "source": []
  },
  {
   "cell_type": "code",
   "execution_count": null,
   "id": "fe0ddd7e-7bc5-4b35-ab07-4d0ae5e10f6f",
   "metadata": {},
   "outputs": [],
   "source": []
  },
  {
   "cell_type": "code",
   "execution_count": null,
   "id": "e2c219e0-d604-4ed0-b220-b1c66cacab7b",
   "metadata": {},
   "outputs": [],
   "source": []
  },
  {
   "cell_type": "code",
   "execution_count": null,
   "id": "f7675fac-17ff-4b51-b20f-829da9dc78fa",
   "metadata": {},
   "outputs": [],
   "source": []
  },
  {
   "cell_type": "code",
   "execution_count": null,
   "id": "2adad4d1-f6b4-4730-a789-a32f9b317f26",
   "metadata": {},
   "outputs": [],
   "source": []
  },
  {
   "cell_type": "code",
   "execution_count": null,
   "id": "1f7a6d65-bc4d-46e0-bb97-4054833480a0",
   "metadata": {},
   "outputs": [],
   "source": []
  }
 ],
 "metadata": {
  "kernelspec": {
   "display_name": "Python 3 (ipykernel)",
   "language": "python",
   "name": "python3"
  },
  "language_info": {
   "codemirror_mode": {
    "name": "ipython",
    "version": 3
   },
   "file_extension": ".py",
   "mimetype": "text/x-python",
   "name": "python",
   "nbconvert_exporter": "python",
   "pygments_lexer": "ipython3",
   "version": "3.11.7"
  }
 },
 "nbformat": 4,
 "nbformat_minor": 5
}
