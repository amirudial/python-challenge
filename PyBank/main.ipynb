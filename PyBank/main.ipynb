{
 "cells": [
  {
   "cell_type": "code",
   "execution_count": 53,
   "id": "1a90bc40-21f6-489e-a1f8-6679695762ee",
   "metadata": {},
   "outputs": [
    {
     "name": "stdout",
     "output_type": "stream",
     "text": [
      "Financial Analysis\n",
      "----------------------------\n",
      "Total Months: 86\n",
      "Total: $22564198\n",
      "Average Change: $-8311.11\n",
      "Greatest Increase in Profits: Aug-16 ($1862002)\n",
      "Greatest Decrease in Profits: Feb-14 ($-1825558)\n"
     ]
    }
   ],
   "source": [
    "import csv\n",
    "import os\n",
    "# Initialize variables\n",
    "total_months = 0\n",
    "net_total = 0\n",
    "net_change_list = []\n",
    "greatest_increase = [\"\", 0]\n",
    "greatest_decrease = [\"\", 99999999]\n",
    "# Read the data from budget_data.csv\n",
    "with open('/Users/thiernodiallo/Downloads/Starter_Code 5/PyBank/Resources/budget_data.csv', 'r') as file:\n",
    "    csvreader = csv.reader(file)\n",
    "    next(csvreader)  # Skip the header row\n",
    "    # Read the first row\n",
    "    first_row = next(csvreader)\n",
    "    total_months += 1\n",
    "    net_total += int(first_row[1])\n",
    "    prev_net = int(first_row[1])\n",
    "    # Loop through the remaining rows\n",
    "    for row in csvreader:\n",
    "        # Calculate total months and net total\n",
    "        total_months += 1\n",
    "        net_total += int(row[1])\n",
    "        # Calculate net change\n",
    "        net_change = int(row[1]) - prev_net\n",
    "        prev_net = int(row[1])\n",
    "        net_change_list.append(net_change)\n",
    "        # Check for greatest increase and decrease\n",
    "        if net_change > greatest_increase[1]:\n",
    "            greatest_increase[0] = row[0]\n",
    "            greatest_increase[1] = net_change\n",
    "        if net_change < greatest_decrease[1]:\n",
    "            greatest_decrease[0] = row[0]\n",
    "            greatest_decrease[1] = net_change\n",
    "# Calculate average change\n",
    "average_change = sum(net_change_list) / len(net_change_list)\n",
    "# Print the analysis results\n",
    "\n",
    "print(\"Financial Analysis\")\n",
    "print(\"----------------------------\")\n",
    "print(f\"Total Months: {total_months}\")\n",
    "print(f\"Total: ${net_total}\")\n",
    "print(f\"Average Change: ${average_change:.2f}\")\n",
    "print(f\"Greatest Increase in Profits: {greatest_increase[0]} (${greatest_increase[1]})\")\n",
    "print(f\"Greatest Decrease in Profits: {greatest_decrease[0]} (${greatest_decrease[1]})\")"
   ]
  },
  {
   "cell_type": "code",
   "execution_count": 46,
   "id": "62cf3414-c1ba-4c3e-b48e-4e07112cc36e",
   "metadata": {},
   "outputs": [],
   "source": [
    "# Export the results to text file\n",
    "file_to_output = os.path.join(\"PyBank/analysis\", \"budget_analysis.txt\")\n",
    "with open(file_to_output, \"w\") as txt_file:\n",
    "    txt_file.write(output)"
   ]
  },
  {
   "cell_type": "code",
   "execution_count": 47,
   "id": "5e1a6290-ec6d-49b2-9b8c-9705e98ac584",
   "metadata": {},
   "outputs": [
    {
     "data": {
      "text/plain": [
       "'/Users/thiernodiallo/Desktop/python-challenge'"
      ]
     },
     "execution_count": 47,
     "metadata": {},
     "output_type": "execute_result"
    }
   ],
   "source": [
    "pwd"
   ]
  },
  {
   "cell_type": "code",
   "execution_count": 48,
   "id": "777a6b65-fe98-4913-af59-a7e4f60fb892",
   "metadata": {},
   "outputs": [
    {
     "name": "stdout",
     "output_type": "stream",
     "text": [
      "\u001b[34mPyBank\u001b[m\u001b[m/    \u001b[34mPyPoll\u001b[m\u001b[m/    README.md\n"
     ]
    }
   ],
   "source": [
    "ls"
   ]
  },
  {
   "cell_type": "code",
   "execution_count": 49,
   "id": "3e9224ae-f9da-4e20-bc39-6420acfba0af",
   "metadata": {},
   "outputs": [
    {
     "name": "stdout",
     "output_type": "stream",
     "text": [
      "[Errno 2] No such file or directory: 'python-challenge'\n",
      "/Users/thiernodiallo/Desktop/python-challenge\n"
     ]
    }
   ],
   "source": [
    "cd python-challenge"
   ]
  }
 ],
 "metadata": {
  "kernelspec": {
   "display_name": "Python 3 (ipykernel)",
   "language": "python",
   "name": "python3"
  },
  "language_info": {
   "codemirror_mode": {
    "name": "ipython",
    "version": 3
   },
   "file_extension": ".py",
   "mimetype": "text/x-python",
   "name": "python",
   "nbconvert_exporter": "python",
   "pygments_lexer": "ipython3",
   "version": "3.11.7"
  }
 },
 "nbformat": 4,
 "nbformat_minor": 5
}
